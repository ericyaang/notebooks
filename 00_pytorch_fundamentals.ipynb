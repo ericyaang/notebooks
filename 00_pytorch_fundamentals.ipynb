{
  "nbformat": 4,
  "nbformat_minor": 0,
  "metadata": {
    "colab": {
      "provenance": [],
      "authorship_tag": "ABX9TyOzLy7CpBKElnOxte3OsyIG",
      "include_colab_link": true
    },
    "kernelspec": {
      "name": "python3",
      "display_name": "Python 3"
    },
    "language_info": {
      "name": "python"
    },
    "gpuClass": "standard"
  },
  "cells": [
    {
      "cell_type": "markdown",
      "metadata": {
        "id": "view-in-github",
        "colab_type": "text"
      },
      "source": [
        "<a href=\"https://colab.research.google.com/github/ericyaang/notebooks/blob/main/00_pytorch_fundamentals.ipynb\" target=\"_parent\"><img src=\"https://colab.research.google.com/assets/colab-badge.svg\" alt=\"Open In Colab\"/></a>"
      ]
    },
    {
      "cell_type": "markdown",
      "source": [
        "# Fundamentos do Pytorch"
      ],
      "metadata": {
        "id": "VFi5cNSSLSDZ"
      }
    },
    {
      "cell_type": "code",
      "execution_count": 1,
      "metadata": {
        "colab": {
          "base_uri": "https://localhost:8080/"
        },
        "id": "ErmMjW2yJC0Z",
        "outputId": "827a4c4e-70a8-4fc4-f877-29f48932267b"
      },
      "outputs": [
        {
          "output_type": "stream",
          "name": "stdout",
          "text": [
            "Torch version: 2.0.0+cu118\n"
          ]
        }
      ],
      "source": [
        "import torch\n",
        "import pandas as pd\n",
        "import numpy as np\n",
        "import matplotlib.pyplot as plt\n",
        "print(f'Torch version: {torch.__version__}')"
      ]
    },
    {
      "cell_type": "markdown",
      "source": [
        "## Introdução a Tensores\n",
        "\n",
        "Tensores são uma extensão de matrizes de N dimensões\n",
        "\n",
        "    Scalar (0D tensor): a ∈ ℝ\n",
        "    Vector (1D tensor): v ∈ ℝ^n\n",
        "    Matrix (2D tensor): M ∈ ℝ^(m x n)\n",
        "    N-Dimensional Tensor: T ∈ ℝ^(n1 x n2 x ... x nN)"
      ],
      "metadata": {
        "id": "dahM_SoHNCKs"
      }
    },
    {
      "cell_type": "code",
      "source": [
        "# Scalar (0D tensor)\n",
        "a = np.array(42)\n",
        "\n",
        "# Vector (1D tensor)\n",
        "v = np.array([1, 2, 3, 4])\n",
        "\n",
        "# Matrix (2D tensor)\n",
        "M = np.array([[1, 2, 3],\n",
        "              [4, 5, 6]])\n",
        "\n",
        "# 3D tensor\n",
        "T = np.array([[[1, 2], [3, 4]],\n",
        "              [[5, 6], [7, 8]]])"
      ],
      "metadata": {
        "id": "WQu7eY2dR2ev"
      },
      "execution_count": 2,
      "outputs": []
    },
    {
      "cell_type": "markdown",
      "source": [
        "Inspecionando um tensor para entender as suas características e estrutura."
      ],
      "metadata": {
        "id": "o_aCxjHnSb8r"
      }
    },
    {
      "cell_type": "code",
      "source": [
        "import torch\n",
        "import numpy as np\n",
        "\n",
        "def numpy_to_torch(arr):\n",
        "    \"\"\"\n",
        "    Converts a NumPy array to a PyTorch tensor.\n",
        "    \"\"\"\n",
        "    return torch.from_numpy(arr)\n",
        "\n",
        "def create_tensors():\n",
        "    # Scalar (0D tensor)\n",
        "    a = np.array(42)\n",
        "    a_t = numpy_to_torch(a)\n",
        "\n",
        "    # Vector (1D tensor)\n",
        "    v = np.array([1, 2, 3, 4])\n",
        "    v_t = numpy_to_torch(v)\n",
        "\n",
        "    # Matrix (2D tensor)\n",
        "    M = np.array([[1, 2, 3],\n",
        "                  [4, 5, 6]])\n",
        "    M_t = numpy_to_torch(M)\n",
        "\n",
        "    # 3D tensor\n",
        "    T = np.array([[[1, 2], [3, 4]],\n",
        "                  [[5, 6], [7, 8]]])\n",
        "    T_t = numpy_to_torch(T)\n",
        "    \n",
        "    return a_t, v_t, M_t, T_t\n",
        "\n",
        "a_t, v_t, M_t, T_t = create_tensors()\n",
        "tensors_t = [a_t, v_t, M_t, T_t]"
      ],
      "metadata": {
        "id": "pmxead8_XL3s"
      },
      "execution_count": 9,
      "outputs": []
    },
    {
      "cell_type": "code",
      "source": [
        "from pandas.core.arrays.arrow import dtype\n",
        "\n",
        "def inspect_tensor(tensor):\n",
        "  # Determine the dimensions of the tensor\n",
        "  tensor_shape = tensor.shape\n",
        "  # Get the size of each dimension in the tensor\n",
        "  tensor_size = tensor.size()\n",
        "  # Get the size of each dimension in the tensor\n",
        "  tensor_ndim = tensor.dim()\n",
        "  # Check the data type (dtype) of the tensor elements\n",
        "  tensor_dtype = tensor.dtype\n",
        "  # Verify the device (CPU or GPU) on which the tensor is stored\n",
        "  tensor_device = tensor.device\n",
        "  # Calculate the total number of elements in the tensor\n",
        "  tensor_n_elements = tensor.numel()\n",
        " \n",
        "  # Print the tensor properties\n",
        "  print(\"Shape:\", tensor_shape)\n",
        "  print(\"Size:\", tensor_size)\n",
        "  print(\"Number of dimensions:\", tensor_ndim)\n",
        "  print(\"Data type:\", tensor_dtype)\n",
        "  print(\"Device:\", tensor_device)\n",
        "  print(\"Number of elements:\", tensor_n_elements)"
      ],
      "metadata": {
        "id": "c-t10ViaSTR7"
      },
      "execution_count": 13,
      "outputs": []
    }
  ]
}